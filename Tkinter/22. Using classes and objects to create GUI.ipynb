{
 "cells": [
  {
   "cell_type": "code",
   "execution_count": 1,
   "metadata": {},
   "outputs": [],
   "source": [
    "from tkinter import *"
   ]
  },
  {
   "cell_type": "code",
   "execution_count": 2,
   "metadata": {},
   "outputs": [],
   "source": [
    "class GUI(Tk):\n",
    "    def __init__(self):\n",
    "        super().__init__()\n",
    "        self.geometry(\"744x377\")\n",
    "\n",
    "    def status(self):\n",
    "        self.var = StringVar()\n",
    "        self.var.set(\"Ready\")\n",
    "        self.statusbar = Label(self, textvar=self.var, relief=SUNKEN, anchor=\"w\")\n",
    "        self.statusbar.pack(side=BOTTOM, fill=X)\n",
    "\n",
    "    def click(self):\n",
    "        print(\"Button clicked\")\n",
    "\n",
    "    def createbutton(self, inptext):\n",
    "        Button(text=inptext, command=self.click).pack()"
   ]
  },
  {
   "cell_type": "code",
   "execution_count": 3,
   "metadata": {},
   "outputs": [
    {
     "name": "stdout",
     "output_type": "stream",
     "text": [
      "Button clicked\n",
      "Button clicked\n",
      "Button clicked\n",
      "Button clicked\n",
      "Button clicked\n",
      "Button clicked\n",
      "Button clicked\n",
      "Button clicked\n",
      "Button clicked\n"
     ]
    }
   ],
   "source": [
    "if __name__ == '__main__':\n",
    "    window = GUI()\n",
    "    window.status()\n",
    "    window.createbutton(\"Click me\")\n",
    "    window.mainloop()"
   ]
  },
  {
   "cell_type": "code",
   "execution_count": null,
   "metadata": {},
   "outputs": [],
   "source": []
  }
 ],
 "metadata": {
  "kernelspec": {
   "display_name": "Python 3",
   "language": "python",
   "name": "python3"
  },
  "language_info": {
   "codemirror_mode": {
    "name": "ipython",
    "version": 3
   },
   "file_extension": ".py",
   "mimetype": "text/x-python",
   "name": "python",
   "nbconvert_exporter": "python",
   "pygments_lexer": "ipython3",
   "version": "3.7.4"
  }
 },
 "nbformat": 4,
 "nbformat_minor": 2
}
