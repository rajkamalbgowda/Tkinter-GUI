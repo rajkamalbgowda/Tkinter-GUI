{
 "cells": [
  {
   "cell_type": "code",
   "execution_count": 1,
   "metadata": {},
   "outputs": [],
   "source": [
    "from tkinter import *\n",
    "import tkinter.messagebox as tmsg"
   ]
  },
  {
   "cell_type": "code",
   "execution_count": 2,
   "metadata": {},
   "outputs": [
    {
     "data": {
      "text/plain": [
       "''"
      ]
     },
     "execution_count": 2,
     "metadata": {},
     "output_type": "execute_result"
    }
   ],
   "source": [
    "root = Tk()\n",
    "root.geometry(\"455x233\")\n",
    "root.title(\"Radiobutton tutorial\")"
   ]
  },
  {
   "cell_type": "code",
   "execution_count": 3,
   "metadata": {},
   "outputs": [],
   "source": [
    "def order():\n",
    "    tmsg.showinfo(\"Order Received!\", f\"We have received your order for {var.get()}. Thanks for ordering\")"
   ]
  },
  {
   "cell_type": "code",
   "execution_count": 4,
   "metadata": {},
   "outputs": [],
   "source": [
    "# var = IntVar()\n",
    "var = StringVar()\n",
    "var.set(\"Radio\")\n",
    "# var.set(1)"
   ]
  },
  {
   "cell_type": "code",
   "execution_count": 5,
   "metadata": {},
   "outputs": [],
   "source": [
    "Label(root, text = \"What would you like to have sir?\",font=\"lucida 19 bold\",justify=LEFT, padx=14).pack()"
   ]
  },
  {
   "cell_type": "code",
   "execution_count": 6,
   "metadata": {},
   "outputs": [],
   "source": [
    "radio = Radiobutton(root, text=\"Dosa\", padx=14, variable=var, value=\"Dosa\").pack(anchor=\"w\")\n",
    "radio = Radiobutton(root, text=\"Idly\", padx=14, variable=var, value=\"Idly\").pack(anchor=\"w\")\n",
    "radio = Radiobutton(root, text=\"Paratha\", padx=14, variable=var, value=\"Paratha\").pack(anchor=\"w\")\n",
    "radio = Radiobutton(root, text=\"Samosa\", padx=14, variable=var, value=\"Samosa\").pack(anchor=\"w\")"
   ]
  },
  {
   "cell_type": "code",
   "execution_count": 7,
   "metadata": {},
   "outputs": [],
   "source": [
    "Button(text=\"Order Now\", command=order).pack()"
   ]
  },
  {
   "cell_type": "code",
   "execution_count": 8,
   "metadata": {},
   "outputs": [],
   "source": [
    "root.mainloop()"
   ]
  },
  {
   "cell_type": "code",
   "execution_count": null,
   "metadata": {},
   "outputs": [],
   "source": []
  }
 ],
 "metadata": {
  "kernelspec": {
   "display_name": "Python 3",
   "language": "python",
   "name": "python3"
  },
  "language_info": {
   "codemirror_mode": {
    "name": "ipython",
    "version": 3
   },
   "file_extension": ".py",
   "mimetype": "text/x-python",
   "name": "python",
   "nbconvert_exporter": "python",
   "pygments_lexer": "ipython3",
   "version": "3.7.4"
  }
 },
 "nbformat": 4,
 "nbformat_minor": 2
}
