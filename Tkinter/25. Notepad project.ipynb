{
 "cells": [
  {
   "cell_type": "code",
   "execution_count": 1,
   "metadata": {},
   "outputs": [],
   "source": [
    "from tkinter import *\n",
    "from tkinter.messagebox import showinfo\n",
    "from tkinter.filedialog import askopenfilename, asksaveasfilename\n",
    "import os"
   ]
  },
  {
   "cell_type": "code",
   "execution_count": 2,
   "metadata": {},
   "outputs": [],
   "source": [
    "def openFile():\n",
    "    global file\n",
    "    file = askopenfilename(defaultextension=\".txt\",\n",
    "                           filetypes=[(\"All Files\", \"*.*\"),\n",
    "                                     (\"Text Documents\", \"*.txt\")])\n",
    "    if file == \"\":\n",
    "        file = None\n",
    "    else:\n",
    "        root.title(os.path.basename(file) + \" - Notepad\")\n",
    "        TextArea.delete(1.0, END)\n",
    "        f = open(file, \"r\")\n",
    "        TextArea.insert(1.0, f.read())\n",
    "        f.close()"
   ]
  },
  {
   "cell_type": "code",
   "execution_count": 3,
   "metadata": {},
   "outputs": [],
   "source": [
    "def newFile():\n",
    "    global file\n",
    "    root.title(\"Untitled - Notepad\")\n",
    "    file = None\n",
    "    TextArea.delete(1.0, END)"
   ]
  },
  {
   "cell_type": "code",
   "execution_count": 4,
   "metadata": {},
   "outputs": [],
   "source": [
    "def saveFile():\n",
    "    global file\n",
    "    if file == None:\n",
    "        file = asksaveasfilename(initialfile = 'Untitled.txt', defaultextension=\".txt\",\n",
    "                           filetypes=[(\"All Files\", \"*.*\"),\n",
    "                                     (\"Text Documents\", \"*.txt\")])\n",
    "        if file ==\"\":\n",
    "            file = None\n",
    "\n",
    "        else:\n",
    "            #Save as a new file\n",
    "            f = open(file, \"w\")\n",
    "            f.write(TextArea.get(1.0, END))\n",
    "            f.close()\n",
    "\n",
    "            root.title(os.path.basename(file) + \" - Notepad\")\n",
    "            print(\"File Saved\")\n",
    "    else:\n",
    "        # Save the file\n",
    "        f = open(file, \"w\")\n",
    "        f.write(TextArea.get(1.0, END))\n",
    "        f.close()"
   ]
  },
  {
   "cell_type": "code",
   "execution_count": 5,
   "metadata": {},
   "outputs": [],
   "source": [
    "def quitApp():\n",
    "    root.destroy()"
   ]
  },
  {
   "cell_type": "code",
   "execution_count": 6,
   "metadata": {},
   "outputs": [],
   "source": [
    "def cut():\n",
    "    TextArea.event_generate((\"<<Cut>>\"))"
   ]
  },
  {
   "cell_type": "code",
   "execution_count": 7,
   "metadata": {},
   "outputs": [],
   "source": [
    "def copy():\n",
    "    TextArea.event_generate((\"<<Copy>>\"))"
   ]
  },
  {
   "cell_type": "code",
   "execution_count": 8,
   "metadata": {},
   "outputs": [],
   "source": [
    "def paste():\n",
    "    TextArea.event_generate((\"<<Paste>>\"))"
   ]
  },
  {
   "cell_type": "code",
   "execution_count": 9,
   "metadata": {},
   "outputs": [],
   "source": [
    "def about():\n",
    "    showinfo(\"Notepad\", \"Notepad by Code With Raj\")"
   ]
  },
  {
   "cell_type": "code",
   "execution_count": null,
   "metadata": {},
   "outputs": [],
   "source": []
  },
  {
   "cell_type": "code",
   "execution_count": 10,
   "metadata": {},
   "outputs": [],
   "source": [
    "if __name__ == '__main__':\n",
    "    #Basic tkinter setup\n",
    "    root = Tk()\n",
    "    root.title(\"Untitled - Notepad\")\n",
    "    root.wm_iconbitmap(\"notepad.ico\")\n",
    "    root.geometry(\"400x400\")"
   ]
  },
  {
   "cell_type": "code",
   "execution_count": 11,
   "metadata": {},
   "outputs": [],
   "source": [
    "#Add TextArea\n",
    "\n",
    "TextArea = Text(root, font=\"lucida 13\",bg=\"black\",fg=\"white\")\n",
    "file = None\n",
    "TextArea.pack(expand=True, fill=BOTH)"
   ]
  },
  {
   "cell_type": "code",
   "execution_count": 12,
   "metadata": {},
   "outputs": [],
   "source": [
    "# Lets create a menubar\n",
    "\n",
    "MenuBar = Menu(root)"
   ]
  },
  {
   "cell_type": "code",
   "execution_count": 13,
   "metadata": {},
   "outputs": [],
   "source": [
    "#File Menu Starts\n",
    "FileMenu = Menu(MenuBar, tearoff=0)\n",
    "\n",
    "# To open new file\n",
    "FileMenu.add_command(label=\"New\", command=newFile)\n",
    "\n",
    "#To Open already existing file\n",
    "FileMenu.add_command(label=\"Open\", command = openFile)\n",
    "\n",
    "# To save the current file\n",
    "FileMenu.add_command(label = \"Save\", command = saveFile)\n",
    "\n",
    "FileMenu.add_separator()\n",
    "FileMenu.add_command(label = \"Exit\", command = quitApp)\n",
    "\n",
    "MenuBar.add_cascade(label = \"File\", menu=FileMenu)\n",
    "\n",
    "# File Menu ends"
   ]
  },
  {
   "cell_type": "code",
   "execution_count": 14,
   "metadata": {},
   "outputs": [],
   "source": [
    "# Edit Menu Starts\n",
    "EditMenu = Menu(MenuBar, tearoff=0)\n",
    "    \n",
    "#To give a feature of cut, copy and paste\n",
    "EditMenu.add_command(label = \"Cut\", command=cut)\n",
    "EditMenu.add_command(label = \"Copy\", command=copy)\n",
    "EditMenu.add_command(label = \"Paste\", command=paste)\n",
    "\n",
    "MenuBar.add_cascade(label=\"Edit\", menu = EditMenu)\n",
    "\n",
    "# Edit Menu Ends"
   ]
  },
  {
   "cell_type": "code",
   "execution_count": 15,
   "metadata": {},
   "outputs": [],
   "source": [
    "# Help Menu Starts\n",
    "HelpMenu = Menu(MenuBar, tearoff=0)\n",
    "HelpMenu.add_command(label = \"About Notepad\", command=about)\n",
    "MenuBar.add_cascade(label=\"Help\", menu=HelpMenu)\n",
    "\n",
    "# Help Menu Ends"
   ]
  },
  {
   "cell_type": "code",
   "execution_count": 16,
   "metadata": {},
   "outputs": [],
   "source": [
    "root.config(menu=MenuBar)"
   ]
  },
  {
   "cell_type": "code",
   "execution_count": 17,
   "metadata": {},
   "outputs": [],
   "source": [
    "#Adding Scrollbar using rules from Tkinter lecture no 22\n",
    "Scroll = Scrollbar(TextArea)\n",
    "Scroll.pack(side=RIGHT,  fill=Y)\n",
    "Scroll.config(command=TextArea.yview)\n",
    "TextArea.config(yscrollcommand=Scroll.set)"
   ]
  },
  {
   "cell_type": "code",
   "execution_count": 18,
   "metadata": {},
   "outputs": [],
   "source": [
    "root.mainloop()"
   ]
  },
  {
   "cell_type": "code",
   "execution_count": null,
   "metadata": {},
   "outputs": [],
   "source": []
  }
 ],
 "metadata": {
  "kernelspec": {
   "display_name": "Python 3",
   "language": "python",
   "name": "python3"
  },
  "language_info": {
   "codemirror_mode": {
    "name": "ipython",
    "version": 3
   },
   "file_extension": ".py",
   "mimetype": "text/x-python",
   "name": "python",
   "nbconvert_exporter": "python",
   "pygments_lexer": "ipython3",
   "version": "3.7.3"
  }
 },
 "nbformat": 4,
 "nbformat_minor": 2
}
