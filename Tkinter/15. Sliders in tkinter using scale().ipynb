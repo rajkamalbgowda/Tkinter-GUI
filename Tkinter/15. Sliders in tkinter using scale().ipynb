{
 "cells": [
  {
   "cell_type": "code",
   "execution_count": 1,
   "metadata": {},
   "outputs": [],
   "source": [
    "from tkinter import *\n",
    "import tkinter.messagebox as tmsg"
   ]
  },
  {
   "cell_type": "code",
   "execution_count": 2,
   "metadata": {},
   "outputs": [],
   "source": [
    "def getdollar():\n",
    "    print(f\"We have credited {myslider2.get()} dollars to your bank account\")\n",
    "    tmsg.showinfo(\"Amount Credited!\", f\"We have credited {myslider2.get()} dollars to your bank account\")"
   ]
  },
  {
   "cell_type": "code",
   "execution_count": 3,
   "metadata": {},
   "outputs": [
    {
     "data": {
      "text/plain": [
       "''"
      ]
     },
     "execution_count": 3,
     "metadata": {},
     "output_type": "execute_result"
    }
   ],
   "source": [
    "root = Tk()\n",
    "root.geometry(\"455x233\")\n",
    "root.title(\"Slider\")"
   ]
  },
  {
   "cell_type": "raw",
   "metadata": {},
   "source": [
    "myslider = Scale(root, from_=0, to=100)\n",
    "myslider.pack()"
   ]
  },
  {
   "cell_type": "code",
   "execution_count": 4,
   "metadata": {},
   "outputs": [],
   "source": [
    "Label(root, text=\"How many dollars do you want?\").pack()"
   ]
  },
  {
   "cell_type": "code",
   "execution_count": 5,
   "metadata": {},
   "outputs": [],
   "source": [
    "myslider2 = Scale(root, from_=0, to=100, orient=HORIZONTAL, tickinterval=50)\n",
    "# myslider2.set(34)\n",
    "myslider2.pack()"
   ]
  },
  {
   "cell_type": "code",
   "execution_count": 6,
   "metadata": {},
   "outputs": [],
   "source": [
    "Button(root, text=\"Get dollars!\", pady=5, command=getdollar).pack()"
   ]
  },
  {
   "cell_type": "code",
   "execution_count": null,
   "metadata": {},
   "outputs": [],
   "source": []
  },
  {
   "cell_type": "code",
   "execution_count": 7,
   "metadata": {},
   "outputs": [
    {
     "name": "stdout",
     "output_type": "stream",
     "text": [
      "We have credited 43 dollars to your bank account\n",
      "We have credited 82 dollars to your bank account\n",
      "We have credited 100 dollars to your bank account\n"
     ]
    }
   ],
   "source": [
    "root.mainloop()"
   ]
  }
 ],
 "metadata": {
  "kernelspec": {
   "display_name": "Python 3",
   "language": "python",
   "name": "python3"
  },
  "language_info": {
   "codemirror_mode": {
    "name": "ipython",
    "version": 3
   },
   "file_extension": ".py",
   "mimetype": "text/x-python",
   "name": "python",
   "nbconvert_exporter": "python",
   "pygments_lexer": "ipython3",
   "version": "3.7.4"
  }
 },
 "nbformat": 4,
 "nbformat_minor": 2
}
