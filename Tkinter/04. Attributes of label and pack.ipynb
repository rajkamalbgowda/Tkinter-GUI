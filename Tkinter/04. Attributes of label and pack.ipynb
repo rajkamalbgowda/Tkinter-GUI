{
 "cells": [
  {
   "cell_type": "code",
   "execution_count": 1,
   "metadata": {},
   "outputs": [
    {
     "data": {
      "text/plain": [
       "''"
      ]
     },
     "execution_count": 1,
     "metadata": {},
     "output_type": "execute_result"
    }
   ],
   "source": [
    "from tkinter import *\n",
    "root = Tk()\n",
    "root.geometry(\"744x133\")\n",
    "root.title(\"My GUI With Raj\")"
   ]
  },
  {
   "cell_type": "code",
   "execution_count": 2,
   "metadata": {},
   "outputs": [],
   "source": [
    "# Important Label Options\n",
    "# text - adds the text\n",
    "# bd - background\n",
    "# fg - foreground\n",
    "# font - sets the font\n",
    "# 1. font=(\"comicsansms\", 19, \"bold\")\n",
    "# 2. font=\"comicsansms 19 bold\"\n",
    "\n",
    "# padx - x padding\n",
    "# pady - y padding\n",
    "# relief - border styling - SUNKEN, RAISED, GROOVE, RIDGE"
   ]
  },
  {
   "cell_type": "code",
   "execution_count": 3,
   "metadata": {},
   "outputs": [],
   "source": [
    "title_label = Label(text ='''\n",
    "Abdul Rashid Salim Salman Khan is an Indian \\nfilm actor, producer, occasional playback singer and television personality. In a film career spanning \\nalmost thirty years, Khan has received numerous awards, including two National Film Awards as a film \\nproducer, and two Filmfare Awards for acting. He has a significant following in Asia and the Indian \\ndiaspora worldwide, and is cited in the media as one of the most commercially successful actors of Indian \\ncinema. According to the Forbes 2018 list of Top-Paid 100 Celebrity Entertainers in world, Khan was \\nthe highest ranked Indian with 82nd rank with earnings of $37.7 million.''', \n",
    "                    bg =\"green\", fg=\"white\", padx=13, pady=94, font=\"comicsansms 10 bold\", borderwidth=10, relief=SUNKEN)"
   ]
  },
  {
   "cell_type": "code",
   "execution_count": 4,
   "metadata": {},
   "outputs": [],
   "source": [
    "# Important Pack options\n",
    "# anchor = nw\n",
    "# side = top, bottom, left, right\n",
    "# fill\n",
    "# padx\n",
    "# pady"
   ]
  },
  {
   "cell_type": "code",
   "execution_count": 5,
   "metadata": {},
   "outputs": [],
   "source": [
    "title_label.pack(side=BOTTOM, anchor =\"sw\", fill=X)\n",
    "#title_label.pack(side=LEFT, fill=Y, padx=34, pady=34)\n",
    "\n",
    "root.mainloop()\n"
   ]
  },
  {
   "cell_type": "code",
   "execution_count": null,
   "metadata": {},
   "outputs": [],
   "source": []
  }
 ],
 "metadata": {
  "kernelspec": {
   "display_name": "Python 3",
   "language": "python",
   "name": "python3"
  },
  "language_info": {
   "codemirror_mode": {
    "name": "ipython",
    "version": 3
   },
   "file_extension": ".py",
   "mimetype": "text/x-python",
   "name": "python",
   "nbconvert_exporter": "python",
   "pygments_lexer": "ipython3",
   "version": "3.7.4"
  }
 },
 "nbformat": 4,
 "nbformat_minor": 2
}
