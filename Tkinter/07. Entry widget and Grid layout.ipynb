{
 "cells": [
  {
   "cell_type": "code",
   "execution_count": 1,
   "metadata": {},
   "outputs": [],
   "source": [
    "from tkinter import *"
   ]
  },
  {
   "cell_type": "code",
   "execution_count": 2,
   "metadata": {},
   "outputs": [
    {
     "data": {
      "text/plain": [
       "''"
      ]
     },
     "execution_count": 2,
     "metadata": {},
     "output_type": "execute_result"
    }
   ],
   "source": [
    "root=Tk()\n",
    "root.geometry(\"655x333\")"
   ]
  },
  {
   "cell_type": "code",
   "execution_count": 3,
   "metadata": {},
   "outputs": [],
   "source": [
    "def fun1():\n",
    "    print(\"The username entered:\",uservalue.get())\n",
    "    print(\"The password entered:\",passvalue.get())\n",
    "    \n",
    "    if (uservalue.get()=='rajkamal' and passvalue.get()=='54321@mode'):\n",
    "        print('Suceeded!')\n",
    "    else:\n",
    "        print(\"The password entered was wrong\")"
   ]
  },
  {
   "cell_type": "code",
   "execution_count": 4,
   "metadata": {},
   "outputs": [],
   "source": [
    "user=Label(text='Username')\n",
    "paswrd=Label(text='Password')\n",
    "\n",
    "user.grid(row=0)\n",
    "paswrd.grid(row=1)"
   ]
  },
  {
   "cell_type": "code",
   "execution_count": null,
   "metadata": {},
   "outputs": [],
   "source": []
  },
  {
   "cell_type": "code",
   "execution_count": 5,
   "metadata": {},
   "outputs": [],
   "source": [
    "# Variable classes in tkinter\n",
    "# BooleanVar, DoubleVar, IntVar, StringVar\n",
    "\n",
    "uservalue = StringVar()\n",
    "passvalue = StringVar()\n",
    "\n",
    "userentry=Entry(root,textvariable=uservalue)\n",
    "passentry=Entry(root,textvariable=passvalue)\n",
    "\n",
    "userentry.grid(row=0,column=1)\n",
    "passentry.grid(row=1,column=1)"
   ]
  },
  {
   "cell_type": "code",
   "execution_count": null,
   "metadata": {},
   "outputs": [],
   "source": []
  },
  {
   "cell_type": "code",
   "execution_count": 6,
   "metadata": {},
   "outputs": [],
   "source": [
    "Button(root,text=\"Press Here\",command=fun1,pady=5).grid(row=3,column=1)"
   ]
  },
  {
   "cell_type": "code",
   "execution_count": null,
   "metadata": {},
   "outputs": [],
   "source": []
  },
  {
   "cell_type": "code",
   "execution_count": 7,
   "metadata": {},
   "outputs": [
    {
     "name": "stdout",
     "output_type": "stream",
     "text": [
      "The username entered: rajkamal\n",
      "The password entered: 54321@mode\n",
      "Suceeded!\n",
      "The username entered: rajkamal\n",
      "The password entered: 54321@modedw\n",
      "The password entered was wrong\n"
     ]
    }
   ],
   "source": [
    "root.mainloop()"
   ]
  },
  {
   "cell_type": "code",
   "execution_count": null,
   "metadata": {},
   "outputs": [],
   "source": []
  }
 ],
 "metadata": {
  "kernelspec": {
   "display_name": "Python 3",
   "language": "python",
   "name": "python3"
  },
  "language_info": {
   "codemirror_mode": {
    "name": "ipython",
    "version": 3
   },
   "file_extension": ".py",
   "mimetype": "text/x-python",
   "name": "python",
   "nbconvert_exporter": "python",
   "pygments_lexer": "ipython3",
   "version": "3.7.4"
  }
 },
 "nbformat": 4,
 "nbformat_minor": 2
}
