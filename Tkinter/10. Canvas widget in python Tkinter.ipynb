{
 "cells": [
  {
   "cell_type": "code",
   "execution_count": 1,
   "metadata": {},
   "outputs": [],
   "source": [
    "from tkinter import *\n",
    "\n",
    "root = Tk()"
   ]
  },
  {
   "cell_type": "code",
   "execution_count": 2,
   "metadata": {},
   "outputs": [],
   "source": [
    "canvas_width = 800\n",
    "canvas_height = 400"
   ]
  },
  {
   "cell_type": "code",
   "execution_count": 3,
   "metadata": {},
   "outputs": [],
   "source": [
    "root.geometry(f\"{canvas_width}x{canvas_height}\")\n",
    "root.title(\"Raj's GUI\")\n",
    "can_widget = Canvas(root, width=canvas_width, height=canvas_height)\n",
    "can_widget.pack()"
   ]
  },
  {
   "cell_type": "code",
   "execution_count": 4,
   "metadata": {},
   "outputs": [
    {
     "data": {
      "text/plain": [
       "2"
      ]
     },
     "execution_count": 4,
     "metadata": {},
     "output_type": "execute_result"
    }
   ],
   "source": [
    "# The line goes from the point x1, y1 to x2, y2\n",
    "can_widget.create_line(0, 0, 800, 400, fill=\"red\")\n",
    "can_widget.create_line(0, 400, 800, 0, fill=\"red\")"
   ]
  },
  {
   "cell_type": "code",
   "execution_count": 5,
   "metadata": {},
   "outputs": [
    {
     "data": {
      "text/plain": [
       "5"
      ]
     },
     "execution_count": 5,
     "metadata": {},
     "output_type": "execute_result"
    }
   ],
   "source": [
    "# To create a rectangle specify parameters in this order - coors of top left and coors of bottom right\n",
    "can_widget.create_rectangle(3, 5, 700, 300, fill=\"blue\")\n",
    "\n",
    "can_widget.create_text(200, 200, text=\"python\")\n",
    "\n",
    "can_widget.create_oval(344,233,244,355)"
   ]
  },
  {
   "cell_type": "code",
   "execution_count": 6,
   "metadata": {},
   "outputs": [],
   "source": [
    "root.mainloop()"
   ]
  }
 ],
 "metadata": {
  "kernelspec": {
   "display_name": "Python 3",
   "language": "python",
   "name": "python3"
  },
  "language_info": {
   "codemirror_mode": {
    "name": "ipython",
    "version": 3
   },
   "file_extension": ".py",
   "mimetype": "text/x-python",
   "name": "python",
   "nbconvert_exporter": "python",
   "pygments_lexer": "ipython3",
   "version": "3.7.4"
  }
 },
 "nbformat": 4,
 "nbformat_minor": 2
}
