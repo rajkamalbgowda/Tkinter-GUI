{
 "cells": [
  {
   "cell_type": "code",
   "execution_count": 1,
   "metadata": {},
   "outputs": [],
   "source": [
    "from tkinter import *"
   ]
  },
  {
   "cell_type": "code",
   "execution_count": 2,
   "metadata": {},
   "outputs": [],
   "source": [
    "def click(event):\n",
    "    global scvalue\n",
    "    text = event.widget.cget(\"text\")\n",
    "    if text == \"=\":\n",
    "        if scvalue.get().isdigit():\n",
    "            value = int(scvalue.get())\n",
    "        else:\n",
    "            try:\n",
    "                value = eval(screen.get())\n",
    "\n",
    "            except Exception as e:\n",
    "                print(e)\n",
    "                value = \"Error\"\n",
    "\n",
    "\n",
    "        scvalue.set(value)\n",
    "        screen.update()\n",
    "\n",
    "    elif text == \"C\":\n",
    "        scvalue.set(\"\")\n",
    "        screen.update()\n",
    "\n",
    "    else:\n",
    "        scvalue.set(scvalue.get() + text)\n",
    "        screen.update()"
   ]
  },
  {
   "cell_type": "code",
   "execution_count": 3,
   "metadata": {},
   "outputs": [
    {
     "data": {
      "text/plain": [
       "''"
      ]
     },
     "execution_count": 3,
     "metadata": {},
     "output_type": "execute_result"
    }
   ],
   "source": [
    "root = Tk()\n",
    "root.geometry(\"323x500\")\n",
    "root.title(\"Calculator By CodeWithHarry\")\n",
    "root.wm_iconbitmap(\"mfs.ico\")"
   ]
  },
  {
   "cell_type": "code",
   "execution_count": 4,
   "metadata": {},
   "outputs": [],
   "source": [
    "scvalue = StringVar()\n",
    "scvalue.set(\"\")\n",
    "screen = Entry(root, textvar=scvalue, font=\"lucida 30 bold\")\n",
    "screen.pack(fill=X, ipadx=8, pady=10, padx=10)"
   ]
  },
  {
   "cell_type": "code",
   "execution_count": 5,
   "metadata": {},
   "outputs": [],
   "source": [
    "f = Frame(root, bg=\"grey\")\n",
    "b = Button(f, text=\"9\", padx=28, pady=18, font=\"lucida 10 bold\")\n",
    "b.pack(side=LEFT, padx=18, pady=5)\n",
    "b.bind(\"<Button-1>\", click)\n",
    "\n",
    "b = Button(f, text=\"8\", padx=28, pady=18, font=\"lucida 10 bold\")\n",
    "b.pack(side=LEFT, padx=18, pady=5)\n",
    "b.bind(\"<Button-1>\", click)\n",
    "\n",
    "b = Button(f, text=\"7\", padx=28, pady=18, font=\"lucida 10 bold\")\n",
    "b.pack(side=LEFT, padx=18, pady=5)\n",
    "b.bind(\"<Button-1>\", click)\n",
    "\n",
    "f.pack()"
   ]
  },
  {
   "cell_type": "code",
   "execution_count": 6,
   "metadata": {},
   "outputs": [],
   "source": [
    "f = Frame(root, bg=\"grey\")\n",
    "b = Button(f, text=\"6\", padx=28, pady=18, font=\"lucida 10 bold\")\n",
    "b.pack(side=LEFT, padx=18, pady=5)\n",
    "b.bind(\"<Button-1>\", click)\n",
    "\n",
    "b = Button(f, text=\"5\", padx=28, pady=18, font=\"lucida 10 bold\")\n",
    "b.pack(side=LEFT, padx=18, pady=5)\n",
    "b.bind(\"<Button-1>\", click)\n",
    "\n",
    "b = Button(f, text=\"4\", padx=28, pady=18, font=\"lucida 10 bold\")\n",
    "b.pack(side=LEFT, padx=18, pady=5)\n",
    "b.bind(\"<Button-1>\", click)\n",
    "\n",
    "f.pack()"
   ]
  },
  {
   "cell_type": "code",
   "execution_count": 7,
   "metadata": {},
   "outputs": [],
   "source": [
    "f = Frame(root, bg=\"grey\")\n",
    "b = Button(f, text=\"3\", padx=28, pady=18, font=\"lucida 10 bold\")\n",
    "b.pack(side=LEFT, padx=18, pady=5)\n",
    "b.bind(\"<Button-1>\", click)\n",
    "\n",
    "b = Button(f, text=\"2\", padx=28, pady=18, font=\"lucida 10 bold\")\n",
    "b.pack(side=LEFT, padx=18, pady=5)\n",
    "b.bind(\"<Button-1>\", click)\n",
    "\n",
    "b = Button(f, text=\"1\", padx=28, pady=18, font=\"lucida 10 bold\")\n",
    "b.pack(side=LEFT, padx=18, pady=5)\n",
    "b.bind(\"<Button-1>\", click)\n",
    "\n",
    "f.pack()"
   ]
  },
  {
   "cell_type": "code",
   "execution_count": 8,
   "metadata": {},
   "outputs": [],
   "source": [
    "f = Frame(root, bg=\"grey\")\n",
    "b = Button(f, text=\"0\", padx=28, pady=18, font=\"lucida 10 bold\")\n",
    "b.pack(side=LEFT, padx=18, pady=5)\n",
    "b.bind(\"<Button-1>\", click)\n",
    "\n",
    "b = Button(f, text=\"-\", padx=28, pady=18, font=\"lucida 10 bold\")\n",
    "b.pack(side=LEFT, padx=18, pady=5)\n",
    "b.bind(\"<Button-1>\", click)\n",
    "\n",
    "b = Button(f, text=\"*\", padx=28, pady=18, font=\"lucida 10 bold\")\n",
    "b.pack(side=LEFT, padx=18, pady=5)\n",
    "b.bind(\"<Button-1>\", click)\n",
    "\n",
    "f.pack()"
   ]
  },
  {
   "cell_type": "code",
   "execution_count": 9,
   "metadata": {},
   "outputs": [],
   "source": [
    "f = Frame(root, bg=\"grey\")\n",
    "b = Button(f, text=\"/\", padx=28, pady=18, font=\"lucida 10 bold\")\n",
    "b.pack(side=LEFT, padx=18, pady=5)\n",
    "b.bind(\"<Button-1>\", click)\n",
    "\n",
    "b = Button(f, text=\"%\", padx=28, pady=18, font=\"lucida 10 bold\")\n",
    "b.pack(side=LEFT, padx=18, pady=5)\n",
    "b.bind(\"<Button-1>\", click)\n",
    "\n",
    "b = Button(f, text=\"=\", padx=28, pady=18, font=\"lucida 10 bold\")\n",
    "b.pack(side=LEFT, padx=18, pady=5)\n",
    "b.bind(\"<Button-1>\", click)\n",
    "\n",
    "f.pack()"
   ]
  },
  {
   "cell_type": "code",
   "execution_count": 10,
   "metadata": {},
   "outputs": [],
   "source": [
    "f = Frame(root, bg=\"grey\")\n",
    "b = Button(f, text=\"C\", padx=28, pady=18, font=\"lucida 10 bold\")\n",
    "b.pack(side=LEFT, padx=18, pady=5)\n",
    "b.bind(\"<Button-1>\", click)\n",
    "\n",
    "b = Button(f, text=\".\", padx=28, pady=18, font=\"lucida 10 bold\")\n",
    "b.pack(side=LEFT, padx=18, pady=5)\n",
    "b.bind(\"<Button-1>\", click)\n",
    "\n",
    "b = Button(f, text=\"00\", padx=28, pady=18, font=\"lucida 10 bold\")\n",
    "b.pack(side=LEFT, padx=18, pady=5)\n",
    "b.bind(\"<Button-1>\", click)\n",
    "\n",
    "f.pack()"
   ]
  },
  {
   "cell_type": "code",
   "execution_count": 11,
   "metadata": {},
   "outputs": [],
   "source": [
    "root.mainloop()"
   ]
  },
  {
   "cell_type": "code",
   "execution_count": null,
   "metadata": {},
   "outputs": [],
   "source": []
  }
 ],
 "metadata": {
  "kernelspec": {
   "display_name": "Python 3",
   "language": "python",
   "name": "python3"
  },
  "language_info": {
   "codemirror_mode": {
    "name": "ipython",
    "version": 3
   },
   "file_extension": ".py",
   "mimetype": "text/x-python",
   "name": "python",
   "nbconvert_exporter": "python",
   "pygments_lexer": "ipython3",
   "version": "3.7.4"
  }
 },
 "nbformat": 4,
 "nbformat_minor": 2
}
