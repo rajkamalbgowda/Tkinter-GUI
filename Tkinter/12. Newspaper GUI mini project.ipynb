{
 "cells": [
  {
   "cell_type": "code",
   "execution_count": 1,
   "metadata": {},
   "outputs": [],
   "source": [
    "from tkinter import *\n",
    "from PIL import  ImageTk, Image"
   ]
  },
  {
   "cell_type": "code",
   "execution_count": 2,
   "metadata": {},
   "outputs": [],
   "source": [
    "def every_100(text):\n",
    "    final_text = \"\"\n",
    "    for i in range(0, len(text)):\n",
    "        final_text +=text[i]\n",
    "        if i%150==0 and i!=0:\n",
    "            final_text += \"\\n\"\n",
    "    return final_text"
   ]
  },
  {
   "cell_type": "code",
   "execution_count": 3,
   "metadata": {},
   "outputs": [
    {
     "data": {
      "text/plain": [
       "''"
      ]
     },
     "execution_count": 3,
     "metadata": {},
     "output_type": "execute_result"
    }
   ],
   "source": [
    "root = Tk()\n",
    "root.title(\"Rajkamal News - Times of Karnataka\")\n",
    "root.geometry(\"1200x1200\")"
   ]
  },
  {
   "cell_type": "code",
   "execution_count": 4,
   "metadata": {},
   "outputs": [],
   "source": [
    "texts = []\n",
    "photos = []\n",
    "for i in range(0, 3):\n",
    "    with open(f\"{i+1}.txt\") as f:\n",
    "        text = f.read()\n",
    "        texts.append(every_100(text))\n",
    "\n",
    "    image = Image.open(f\"{i+1}.jpg\")\n",
    "    #TODO: Resize these images\n",
    "    image = image.resize((150, 150), Image.ANTIALIAS)\n",
    "    photos.append(ImageTk.PhotoImage(image))"
   ]
  },
  {
   "cell_type": "code",
   "execution_count": 5,
   "metadata": {},
   "outputs": [
    {
     "data": {
      "text/plain": [
       "'Hospitals have plans to keep coronavirus patients separate and supply staff with protective masks and suits.All hospital patients with flu-like symptom\\ns are being tested. If someone tests positive, they may be moved to one of the main hospitals.Patients with mild symptoms are being asked to self-isol\\nate at home. Community teams will keep an eye on them if need be.=But people are being advised not to ring NHS 111 to report their symptoms unless the\\ny are worried.All hospital patients with flu-like symptoms are being tested. If someone tests positive, they may be moved to one of the main hospitals\\n.Patients with mild symptoms are being asked to self-isolate at home. Community teams will keep an eye on them if need be.=But people are being advise\\nd not to ring NHS 111 to report their symptoms unless they are worried.\\n\\n\\n\\n'"
      ]
     },
     "execution_count": 5,
     "metadata": {},
     "output_type": "execute_result"
    }
   ],
   "source": [
    "every_100(text)"
   ]
  },
  {
   "cell_type": "code",
   "execution_count": 6,
   "metadata": {},
   "outputs": [],
   "source": [
    "f0 = Frame(root, width=800, height=70)\n",
    "Label(f0, text=\"Corona News\", font=\"lucida 40 bold\").pack()\n",
    "Label(f0, text=\"January 19, 2050\", font=\"lucida 13 bold\").pack()\n",
    "f0.pack()"
   ]
  },
  {
   "cell_type": "code",
   "execution_count": 7,
   "metadata": {},
   "outputs": [],
   "source": [
    "f1 = Frame(root, width=1200, height=200, pady=14)\n",
    "Label(f1, text=texts[0], padx=22, pady=25).pack(side=\"left\")\n",
    "Label(f1, image=photos[0], anchor=\"e\").pack()\n",
    "f1.pack(anchor=\"w\")"
   ]
  },
  {
   "cell_type": "code",
   "execution_count": 8,
   "metadata": {},
   "outputs": [],
   "source": [
    "f2 = Frame(root, width=1200, height=300, pady=14, padx=22)\n",
    "Label(f2, text=texts[1], padx=22, pady=25).pack(side=\"right\")\n",
    "Label(f2, image=photos[1], anchor=\"e\", padx=22).pack()\n",
    "f2.pack(anchor=\"w\")"
   ]
  },
  {
   "cell_type": "code",
   "execution_count": 9,
   "metadata": {},
   "outputs": [],
   "source": [
    "f3 = Frame(root, width=1200, height=200, pady=34)\n",
    "Label(f3, text=texts[2], padx=22, pady=25).pack(side=\"left\")\n",
    "Label(f3, image=photos[2], anchor=\"e\").pack()\n",
    "f3.pack(anchor=\"w\")"
   ]
  },
  {
   "cell_type": "code",
   "execution_count": 10,
   "metadata": {},
   "outputs": [],
   "source": [
    "root.mainloop()"
   ]
  },
  {
   "cell_type": "code",
   "execution_count": null,
   "metadata": {},
   "outputs": [],
   "source": []
  }
 ],
 "metadata": {
  "kernelspec": {
   "display_name": "Python 3",
   "language": "python",
   "name": "python3"
  },
  "language_info": {
   "codemirror_mode": {
    "name": "ipython",
    "version": 3
   },
   "file_extension": ".py",
   "mimetype": "text/x-python",
   "name": "python",
   "nbconvert_exporter": "python",
   "pygments_lexer": "ipython3",
   "version": "3.7.4"
  }
 },
 "nbformat": 4,
 "nbformat_minor": 2
}
