{
 "cells": [
  {
   "cell_type": "code",
   "execution_count": 1,
   "metadata": {},
   "outputs": [],
   "source": [
    "from tkinter import *"
   ]
  },
  {
   "cell_type": "code",
   "execution_count": 2,
   "metadata": {},
   "outputs": [
    {
     "data": {
      "text/plain": [
       "''"
      ]
     },
     "execution_count": 2,
     "metadata": {},
     "output_type": "execute_result"
    }
   ],
   "source": [
    "root=Tk()\n",
    "root.geometry(\"733x565\")\n",
    "root.title(\"Pycharm\")"
   ]
  },
  {
   "cell_type": "code",
   "execution_count": 3,
   "metadata": {},
   "outputs": [],
   "source": [
    "def myfunc():\n",
    "    print(\"I am a very good boy and I am a programmer\")"
   ]
  },
  {
   "cell_type": "raw",
   "metadata": {},
   "source": [
    "#Use these to create a non dropdown menu\n",
    "\n",
    "mymenu = Menu(root)\n",
    "mymenu.add_command(label=\"File\", command=myfunc)\n",
    "mymenu.add_command(label=\"Exit\", command=quit)\n",
    "root.config(menu=mymenu)"
   ]
  },
  {
   "cell_type": "code",
   "execution_count": 4,
   "metadata": {},
   "outputs": [],
   "source": [
    "mainmenu = Menu(root)"
   ]
  },
  {
   "cell_type": "code",
   "execution_count": 5,
   "metadata": {},
   "outputs": [],
   "source": [
    "m1 = Menu(mainmenu, tearoff=0)\n",
    "\n",
    "m1.add_command(label=\"New project\", command=myfunc)\n",
    "m1.add_command(label=\"Save\", command=myfunc)\n",
    "m1.add_separator()\n",
    "m1.add_command(label=\"Save As\", command=myfunc)\n",
    "m1.add_command(label=\"Print\", command=myfunc)\n",
    "\n",
    "root.config(menu=mainmenu)\n",
    "mainmenu.add_cascade(label=\"File\", menu=m1)"
   ]
  },
  {
   "cell_type": "code",
   "execution_count": 6,
   "metadata": {},
   "outputs": [],
   "source": [
    "m2 = Menu(mainmenu, tearoff=0)\n",
    "\n",
    "m2.add_command(label=\"Cut\", command=myfunc)\n",
    "m2.add_command(label=\"Copy\", command=myfunc)\n",
    "m2.add_separator()\n",
    "m2.add_command(label=\"Paste\", command=myfunc)\n",
    "m2.add_command(label=\"Find\", command=myfunc)\n",
    "\n",
    "root.config(menu=mainmenu)\n",
    "mainmenu.add_cascade(label=\"Edit\", menu=m2)"
   ]
  },
  {
   "cell_type": "code",
   "execution_count": 7,
   "metadata": {},
   "outputs": [],
   "source": [
    "root.mainloop()"
   ]
  }
 ],
 "metadata": {
  "kernelspec": {
   "display_name": "Python 3",
   "language": "python",
   "name": "python3"
  },
  "language_info": {
   "codemirror_mode": {
    "name": "ipython",
    "version": 3
   },
   "file_extension": ".py",
   "mimetype": "text/x-python",
   "name": "python",
   "nbconvert_exporter": "python",
   "pygments_lexer": "ipython3",
   "version": "3.7.4"
  }
 },
 "nbformat": 4,
 "nbformat_minor": 2
}
