{
 "cells": [
  {
   "cell_type": "code",
   "execution_count": 1,
   "metadata": {},
   "outputs": [],
   "source": [
    "from tkinter import *\n",
    "import tkinter.messagebox as tmsg"
   ]
  },
  {
   "cell_type": "code",
   "execution_count": 2,
   "metadata": {},
   "outputs": [
    {
     "data": {
      "text/plain": [
       "''"
      ]
     },
     "execution_count": 2,
     "metadata": {},
     "output_type": "execute_result"
    }
   ],
   "source": [
    "root = Tk()\n",
    "root.geometry(\"733x566\")\n",
    "root.title(\"Pycharm\")"
   ]
  },
  {
   "cell_type": "code",
   "execution_count": 3,
   "metadata": {},
   "outputs": [],
   "source": [
    "def myfunc():\n",
    "    print(\"Mai ek bahut hi natkhat aur shaitaan function hoon\")\n",
    "\n",
    "def help():\n",
    "    print(\"I will help you\")\n",
    "    tmsg.showinfo(\"Help\", \"Raj will help you with this gui\")\n",
    "\n",
    "def rate():\n",
    "    print(\"Rate us\")\n",
    "    value = tmsg.askquestion(\"Was your experience Good?\", \"You used this gui.. Was your experience Good?\")\n",
    "    if value == \"yes\":\n",
    "        msg = \"Great. Rate us on appstore please\"\n",
    "    else:\n",
    "        msg = \"Tell us what went wrong. We will call you soon\"\n",
    "    tmsg.showinfo(\"Experience\", msg)\n",
    "\n",
    "def Rajkamal():\n",
    "    ans = tmsg.askretrycancel(\"Rajkamal se dosti kar lo\", \"Sorry Rajkamal nahi banegi aapki dost\")\n",
    "    if ans:\n",
    "        print(\"Retry karne pe bhi kuch nahi hoga\")\n",
    "    else:\n",
    "        print(\"Bahut badiya bhai cancel kar diya warna pitte\")"
   ]
  },
  {
   "cell_type": "code",
   "execution_count": 4,
   "metadata": {},
   "outputs": [],
   "source": [
    "mainmenu = Menu(root)"
   ]
  },
  {
   "cell_type": "code",
   "execution_count": 5,
   "metadata": {},
   "outputs": [],
   "source": [
    "m1 = Menu(mainmenu, tearoff=0)\n",
    "m1.add_command(label=\"New project\", command=myfunc)\n",
    "m1.add_command(label=\"Save\", command=myfunc)\n",
    "m1.add_separator()\n",
    "m1.add_command(label=\"Save As\", command=myfunc)\n",
    "m1.add_command(label=\"Print\", command=myfunc)\n",
    "root.config(menu=mainmenu)\n",
    "mainmenu.add_cascade(label=\"File\", menu=m1)"
   ]
  },
  {
   "cell_type": "code",
   "execution_count": 6,
   "metadata": {},
   "outputs": [],
   "source": [
    "m2 = Menu(mainmenu, tearoff=0)\n",
    "m2.add_command(label=\"Cut\", command=myfunc)\n",
    "m2.add_command(label=\"Copy\", command=myfunc)\n",
    "m2.add_separator()\n",
    "m2.add_command(label=\"Paste\", command=myfunc)\n",
    "m2.add_command(label=\"Find\", command=myfunc)\n",
    "root.config(menu=mainmenu)\n",
    "mainmenu.add_cascade(label=\"Edit\", menu=m2)"
   ]
  },
  {
   "cell_type": "code",
   "execution_count": 7,
   "metadata": {},
   "outputs": [],
   "source": [
    "m3 = Menu(mainmenu, tearoff=0)\n",
    "m3.add_command(label = \"Help\", command=help)\n",
    "m3.add_command(label = \"Rate us\", command=rate)\n",
    "m3.add_command(label = \"Befriend Rajkamal\", command=Rajkamal)\n",
    "mainmenu.add_cascade(label=\"Help\", menu=m3)\n",
    "root.config(menu=mainmenu)"
   ]
  },
  {
   "cell_type": "code",
   "execution_count": 8,
   "metadata": {},
   "outputs": [
    {
     "name": "stdout",
     "output_type": "stream",
     "text": [
      "I will help you\n"
     ]
    }
   ],
   "source": [
    "root.mainloop()"
   ]
  }
 ],
 "metadata": {
  "kernelspec": {
   "display_name": "Python 3",
   "language": "python",
   "name": "python3"
  },
  "language_info": {
   "codemirror_mode": {
    "name": "ipython",
    "version": 3
   },
   "file_extension": ".py",
   "mimetype": "text/x-python",
   "name": "python",
   "nbconvert_exporter": "python",
   "pygments_lexer": "ipython3",
   "version": "3.7.4"
  }
 },
 "nbformat": 4,
 "nbformat_minor": 2
}
