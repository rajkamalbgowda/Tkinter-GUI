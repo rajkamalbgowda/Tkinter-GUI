{
 "cells": [
  {
   "cell_type": "markdown",
   "metadata": {},
   "source": [
    "### Here the given task is that you have to create a slider which gives rating of 0 to 5 and u have to take the ratings and you have to write it into a file and after rating you have to say the customer that thanks for giving the rating."
   ]
  },
  {
   "cell_type": "code",
   "execution_count": 1,
   "metadata": {},
   "outputs": [],
   "source": [
    "#import statements\n",
    "from tkinter import *\n",
    "import tkinter.messagebox as tmsg\n",
    "import tkinter.font as fnt\n",
    "from PIL import ImageTk,Image"
   ]
  },
  {
   "cell_type": "code",
   "execution_count": 2,
   "metadata": {},
   "outputs": [],
   "source": [
    "def submit():\n",
    "    print(\"Submitted\")\n",
    "    \n",
    "    with open(\"ratings.txt\", \"a\") as f:\n",
    "        f.write(f\"The user given rating is: {myslider.get()}\")\n",
    "\n",
    "    tmsg.showinfo(title=None,message=f\"Thank you for giving us {myslider.get()} ratings\")"
   ]
  },
  {
   "cell_type": "code",
   "execution_count": 3,
   "metadata": {},
   "outputs": [],
   "source": [
    "root = Tk()\n",
    "root.title(\"Customer Ratings\")\n",
    "root.geometry(\"600x400\")\n",
    "\n",
    "root.minsize(600,400)  #to set the minimum size\n",
    "\n",
    "root.maxsize(600, 400) #to set the maximums size"
   ]
  },
  {
   "cell_type": "code",
   "execution_count": 4,
   "metadata": {},
   "outputs": [],
   "source": [
    "image =Image.open('C:/Users/MFST048/Desktop/Tkinter/tiger.jpg')\n",
    "image1 = image.resize((600, 400), Image.ANTIALIAS)\n",
    "image2 = ImageTk.PhotoImage(image1)"
   ]
  },
  {
   "cell_type": "code",
   "execution_count": 5,
   "metadata": {},
   "outputs": [],
   "source": [
    "l1=Label(root,image=image2)\n",
    "l1.pack(side=LEFT,fill=\"both\",anchor='w', expand=True)"
   ]
  },
  {
   "cell_type": "code",
   "execution_count": 6,
   "metadata": {},
   "outputs": [],
   "source": [
    "myslider = Scale(l1, from_=0, to=5,orient=HORIZONTAL, tickinterval=1,bg='black',fg='white')\n",
    "myslider.pack(pady=20)"
   ]
  },
  {
   "cell_type": "code",
   "execution_count": 7,
   "metadata": {},
   "outputs": [],
   "source": [
    "l2=Label(l1, text=\"How much do you rate us out of 5\",font=\"comicsansms 25 bold\",bg=\"black\",fg=\"white\", borderwidth=10, relief=SUNKEN)\n",
    "l2.pack()"
   ]
  },
  {
   "cell_type": "code",
   "execution_count": 8,
   "metadata": {},
   "outputs": [],
   "source": [
    "b1=Button(l1, text=\"Submit\", pady=5, command=submit,borderwidth=10,bg='black',fg='white')\n",
    "b1.pack()"
   ]
  },
  {
   "cell_type": "code",
   "execution_count": 9,
   "metadata": {},
   "outputs": [
    {
     "name": "stdout",
     "output_type": "stream",
     "text": [
      "Submitted\n",
      "Submitted\n",
      "Submitted\n",
      "Submitted\n",
      "Submitted\n",
      "Submitted\n"
     ]
    }
   ],
   "source": [
    "root.mainloop()"
   ]
  },
  {
   "cell_type": "code",
   "execution_count": null,
   "metadata": {},
   "outputs": [],
   "source": []
  }
 ],
 "metadata": {
  "kernelspec": {
   "display_name": "Python 3",
   "language": "python",
   "name": "python3"
  },
  "language_info": {
   "codemirror_mode": {
    "name": "ipython",
    "version": 3
   },
   "file_extension": ".py",
   "mimetype": "text/x-python",
   "name": "python",
   "nbconvert_exporter": "python",
   "pygments_lexer": "ipython3",
   "version": "3.7.4"
  }
 },
 "nbformat": 4,
 "nbformat_minor": 2
}
