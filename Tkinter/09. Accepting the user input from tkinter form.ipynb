{
 "cells": [
  {
   "cell_type": "code",
   "execution_count": 1,
   "metadata": {},
   "outputs": [],
   "source": [
    "from tkinter import *\n",
    "\n",
    "root = Tk()"
   ]
  },
  {
   "cell_type": "code",
   "execution_count": 2,
   "metadata": {},
   "outputs": [],
   "source": [
    "def getvals():\n",
    "    print(\"Submitting form\")\n",
    "\n",
    "    print(f\"{namevalue.get(), phonevalue.get(), gendervalue.get(), emergencyvalue.get(), paymentmodevalue.get(), foodservicevalue.get()} \")\n",
    "\n",
    "    with open(\"records.txt\", \"a\") as f:\n",
    "        f.write(f\"{namevalue.get(), phonevalue.get(), gendervalue.get(), emergencyvalue.get(), paymentmodevalue.get(), foodservicevalue.get()}\\n \")"
   ]
  },
  {
   "cell_type": "code",
   "execution_count": 3,
   "metadata": {},
   "outputs": [],
   "source": [
    "root.geometry(\"644x344\")\n",
    "#Heading\n",
    "Label(root, text=\"Welcome to Rajkamal Travels\", font=\"comicsansms 13 bold\", pady=15).grid(row=0, column=3)\n"
   ]
  },
  {
   "cell_type": "code",
   "execution_count": 4,
   "metadata": {},
   "outputs": [],
   "source": [
    "#Text for our form\n",
    "name = Label(root, text=\"Name\")\n",
    "phone = Label(root, text=\"Phone\")\n",
    "gender = Label(root, text=\"Gender\")\n",
    "emergency = Label(root, text=\"Emergency Contact\")\n",
    "paymentmode = Label(root, text=\"Payment Mode\")\n",
    "\n",
    "#Pack text for our form\n",
    "name.grid(row=1, column=2)\n",
    "phone.grid(row=2, column=2)\n",
    "gender.grid(row=3, column=2)\n",
    "emergency.grid(row=4, column=2)\n",
    "paymentmode.grid(row=5, column=2)"
   ]
  },
  {
   "cell_type": "code",
   "execution_count": 5,
   "metadata": {},
   "outputs": [],
   "source": [
    "# Tkinter variable for storing entries\n",
    "namevalue = StringVar()\n",
    "phonevalue = StringVar()\n",
    "gendervalue = StringVar()\n",
    "emergencyvalue = StringVar()\n",
    "paymentmodevalue = StringVar()\n",
    "foodservicevalue = IntVar()\n",
    "\n",
    "\n",
    "#Entries for our form\n",
    "nameentry = Entry(root, textvariable=namevalue)\n",
    "phoneentry = Entry(root, textvariable=phonevalue)\n",
    "genderentry = Entry(root, textvariable=gendervalue)\n",
    "emergencyentry = Entry(root, textvariable=emergencyvalue)\n",
    "paymentmodeentry = Entry(root, textvariable=paymentmodevalue)\n",
    "\n",
    "# Packing the Entries\n",
    "nameentry.grid(row=1, column=3)\n",
    "phoneentry.grid(row=2, column=3)\n",
    "genderentry.grid(row=3, column=3)\n",
    "emergencyentry.grid(row=4, column=3)\n",
    "paymentmodeentry.grid(row=5, column=3)"
   ]
  },
  {
   "cell_type": "code",
   "execution_count": 6,
   "metadata": {},
   "outputs": [],
   "source": [
    "#Checkbox & Packing it\n",
    "foodservice = Checkbutton(text=\"Want to prebook your meals?\", variable = foodservicevalue)\n",
    "foodservice.grid(row=6, column=3)\n",
    "\n",
    "#Button & packing it and assigning it a command\n",
    "Button(text=\"Submit to Raj Travels\", command=getvals).grid(row=7, column=3)"
   ]
  },
  {
   "cell_type": "code",
   "execution_count": 7,
   "metadata": {},
   "outputs": [
    {
     "name": "stdout",
     "output_type": "stream",
     "text": [
      "Submitting form\n",
      "('rajkamal', '645465', 'male', '545', 'paytm', 1) \n"
     ]
    }
   ],
   "source": [
    "root.mainloop()"
   ]
  }
 ],
 "metadata": {
  "kernelspec": {
   "display_name": "Python 3",
   "language": "python",
   "name": "python3"
  },
  "language_info": {
   "codemirror_mode": {
    "name": "ipython",
    "version": 3
   },
   "file_extension": ".py",
   "mimetype": "text/x-python",
   "name": "python",
   "nbconvert_exporter": "python",
   "pygments_lexer": "ipython3",
   "version": "3.7.4"
  }
 },
 "nbformat": 4,
 "nbformat_minor": 2
}
